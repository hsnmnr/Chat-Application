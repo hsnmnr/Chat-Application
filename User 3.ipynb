{
 "cells": [
  {
   "cell_type": "markdown",
   "metadata": {},
   "source": [
    "# Importing Libraries"
   ]
  },
  {
   "cell_type": "code",
   "execution_count": 1,
   "metadata": {},
   "outputs": [],
   "source": [
    "#INPORTING LIBRARIES\n",
    "import socket\n",
    "import json\n",
    "import time\n",
    "import threading"
   ]
  },
  {
   "cell_type": "markdown",
   "metadata": {},
   "source": [
    "# Utility Functions"
   ]
  },
  {
   "cell_type": "code",
   "execution_count": 2,
   "metadata": {},
   "outputs": [],
   "source": [
    "def recvJsonResponse(socket):\n",
    "    res = socket.recv(1024)\n",
    "    res = res.decode()\n",
    "    res = json.loads(res)\n",
    "    \n",
    "    \n",
    "    print(res[\"Name\"] + \"  ->  \" + res[\"Message\"]) if res[\"Name\"] else print(res[\"Message\"]) #\"Server Message  ->  \" +  \n",
    "    \n",
    "    return res[\"Name\"], res[\"Message\"]\n",
    "\n",
    "def sendJsonMessage(socket, msg):\n",
    "    jasonObj = {\"Name\": None, \"Message\": msg}\n",
    "    jasonStr = json.dumps(jasonObj)\n",
    "    jasonStr = jasonStr.encode()\n",
    "    socket.send(jasonStr)\n"
   ]
  },
  {
   "cell_type": "markdown",
   "metadata": {},
   "source": [
    "# Threading Classes"
   ]
  },
  {
   "cell_type": "code",
   "execution_count": 3,
   "metadata": {},
   "outputs": [],
   "source": [
    "class send(threading.Thread): \n",
    "    def __init__(self, socket, name):#, thread_name, thread_ID): \n",
    "        threading.Thread.__init__(self)\n",
    "        self.socket = socket\n",
    "        self.name = name\n",
    "        \n",
    "        self._running = True\n",
    "    \n",
    "    def terminate(self):\n",
    "        self._running = False\n",
    "\n",
    "    def run(self): \n",
    "        while self._running:\n",
    "            message = input(\"You >> \")\n",
    "            \n",
    "            jasonObj = {\"Name\": self.name, \"Message\": message}\n",
    "            jasonStr = json.dumps(jasonObj)\n",
    "            jasonStr = jasonStr.encode()\n",
    "            \n",
    "            self.socket.send(jasonStr)\n",
    "\n",
    "class receive(threading.Thread): \n",
    "    def __init__(self, socket):#, thread_name, thread_ID): \n",
    "        threading.Thread.__init__(self)\n",
    "        self.socket = socket\n",
    "        \n",
    "        self._running = True\n",
    "    \n",
    "    def terminate(self):\n",
    "        self._running = False\n",
    "\n",
    "    def run(self): \n",
    "        while self._running:\n",
    "            time.sleep(3)\n",
    "            name, message =  recvJsonResponse(self.socket)\n",
    "            \n",
    "\n",
    "#             print(str(name) + \" :: \" + str(message))"
   ]
  },
  {
   "cell_type": "markdown",
   "metadata": {},
   "source": [
    "# Main Socket Code"
   ]
  },
  {
   "cell_type": "code",
   "execution_count": null,
   "metadata": {},
   "outputs": [
    {
     "name": "stdout",
     "output_type": "stream",
     "text": [
      "Enter your name for connecting to chat server >> jahangir\n",
      "<> Send '' K '' to connect for chat <>\n"
     ]
    }
   ],
   "source": [
    "s = socket.socket(socket.AF_INET, socket.SOCK_STREAM)\n",
    "s.connect((socket.gethostname(), 12345))\n",
    "\n",
    "name = input(\"Enter your name for connecting to chat server >> \")\n",
    "sendJsonMessage(s, name)\n",
    "\n",
    "threads1 = []\n",
    "threads2 = []\n",
    "\n",
    "\n",
    "thread1 = send(s, name)\n",
    "thread1.start() \n",
    "threads1.append(thread1)\n",
    "\n",
    "thread2 = receive(s)\n",
    "thread2.start() \n",
    "threads2.append(thread2)\n",
    "    \n",
    "\n",
    "for thread in threads1:\n",
    "    thread.join()\n",
    "\n",
    "for thread in threads2:\n",
    "    thread.join()\n",
    "# s.close()\n"
   ]
  },
  {
   "cell_type": "code",
   "execution_count": null,
   "metadata": {},
   "outputs": [],
   "source": []
  },
  {
   "cell_type": "code",
   "execution_count": null,
   "metadata": {},
   "outputs": [],
   "source": []
  },
  {
   "cell_type": "code",
   "execution_count": null,
   "metadata": {},
   "outputs": [],
   "source": []
  },
  {
   "cell_type": "code",
   "execution_count": null,
   "metadata": {},
   "outputs": [],
   "source": []
  },
  {
   "cell_type": "code",
   "execution_count": null,
   "metadata": {},
   "outputs": [],
   "source": []
  },
  {
   "cell_type": "code",
   "execution_count": null,
   "metadata": {},
   "outputs": [],
   "source": []
  }
 ],
 "metadata": {
  "kernelspec": {
   "display_name": "Python 3",
   "language": "python",
   "name": "python3"
  },
  "language_info": {
   "codemirror_mode": {
    "name": "ipython",
    "version": 3
   },
   "file_extension": ".py",
   "mimetype": "text/x-python",
   "name": "python",
   "nbconvert_exporter": "python",
   "pygments_lexer": "ipython3",
   "version": "3.8.5"
  }
 },
 "nbformat": 4,
 "nbformat_minor": 4
}
