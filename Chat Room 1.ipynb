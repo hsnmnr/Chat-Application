{
 "cells": [
  {
   "cell_type": "code",
   "execution_count": null,
   "metadata": {},
   "outputs": [],
   "source": [
    "# Importing Libraries\n",
    "import socket\n",
    "import threading\n",
    "import os\n",
    "import time"
   ]
  },
  {
   "cell_type": "code",
   "execution_count": null,
   "metadata": {},
   "outputs": [],
   "source": [
    "# Multi Threading Class\n",
    "class NewClient(threading.Thread):\n",
    "    def __init__(self,clientAddress,clientsocket):\n",
    "        threading.Thread.__init__(self)\n",
    "        self.address = clientAddress\n",
    "        self.socket = clientsocket\n",
    "        \n",
    "        print (\"New connection added: \", clientAddress)\n",
    "        \n",
    "    def run(self):\n",
    "        print (\"\\nConnection from : \", self.address)\n",
    "        msg = False\n",
    "        \n",
    "        rcvmesg = self.socket.recv(1024)\n",
    "        rcvmsg = rcvmesg.decode(\"utf-8\")\n",
    "        \n",
    "        print(\"Query From Master Server : \" + rcvmsg)\n",
    "        \n",
    "        datatosend = \"\"\n",
    "                \n",
    "        path = './files/' # path of files location at sub server\n",
    "        files = os.listdir(path)\n",
    "        for fnamee in files:\n",
    "            pathtofile = path + fnamee\n",
    "            fname = fnamee.split(\".\")[0]\n",
    "            if(fname == rcvmsg.split(\".\")[0]):\n",
    "                msg = True\n",
    "                \n",
    "                # File Info\n",
    "                info = []\n",
    "                \n",
    "                modefiedtime = os.path.getmtime(pathtofile)\n",
    "                createdtime = os.path.getctime(pathtofile)\n",
    "                size = os.stat(pathtofile).st_size\n",
    "\n",
    "                \n",
    "                print(\"File Name : \" + str(fname))\n",
    "                print(\"Last modified: %s\" % time.ctime(modefiedtime))\n",
    "                print(\"Created: %s\" % time.ctime(createdtime))\n",
    "                print(\"Size : \" + str(size))\n",
    "\n",
    "                info.append(str(fnamee))\n",
    "                info.append(str(modefiedtime))\n",
    "                info.append(str(createdtime))\n",
    "                info.append(str(size))\n",
    "\n",
    "                datatosend = \"*-*\" # to convert list to string\n",
    "                datatosend = datatosend.join(info)\n",
    "                datatosend = datatosend.encode()\n",
    "                \n",
    "        if(msg):\n",
    "            print(\"File Founded\")\n",
    "            #Sending info to Server\n",
    "            self.socket.send(datatosend)\n",
    "        else:\n",
    "            print(\"File not Founded\")\n",
    "            self.socket.send(bytes(str(msg),'UTF-8'))\n",
    "        \n",
    "#       Respondind back to client\n",
    "\n",
    "#         s.close()\n",
    "\n",
    "        "
   ]
  },
  {
   "cell_type": "code",
   "execution_count": null,
   "metadata": {},
   "outputs": [],
   "source": [
    "#Listening for socket\n",
    "s = socket.socket(socket.AF_INET, socket.SOCK_STREAM)\n",
    "s.setsockopt(socket.SOL_SOCKET, socket.SO_REUSEADDR, 1)\n",
    "s.bind((socket.gethostname(), 12345))\n",
    "\n",
    "threadsList = []\n",
    "\n",
    "print(\"Listening for Master Requests\\n\")\n",
    "while True:\n",
    "    s.listen(5)\n",
    "    clientsocket, address = s.accept()\n",
    "    \n",
    "#     rcvmesg = clientsocket.recv(1024)\n",
    "#     rcvmsg = rcvmesg.decode()\n",
    "#     print(\"Receive : \" + rcvmsg)\n",
    "    \n",
    "#     msg = \"\"\n",
    "    \n",
    "    newthread = NewClient(address,clientsocket) \n",
    "    newthread.start() \n",
    "    threadsList.append(newthread)\n",
    "        \n",
    "    \n",
    "for thread in threadsList:\n",
    "    thread.join()\n"
   ]
  },
  {
   "cell_type": "code",
   "execution_count": null,
   "metadata": {},
   "outputs": [],
   "source": []
  },
  {
   "cell_type": "code",
   "execution_count": null,
   "metadata": {},
   "outputs": [],
   "source": []
  },
  {
   "cell_type": "code",
   "execution_count": null,
   "metadata": {},
   "outputs": [],
   "source": []
  },
  {
   "cell_type": "code",
   "execution_count": null,
   "metadata": {},
   "outputs": [],
   "source": []
  },
  {
   "cell_type": "code",
   "execution_count": null,
   "metadata": {},
   "outputs": [],
   "source": []
  },
  {
   "cell_type": "code",
   "execution_count": null,
   "metadata": {},
   "outputs": [],
   "source": []
  },
  {
   "cell_type": "code",
   "execution_count": null,
   "metadata": {},
   "outputs": [],
   "source": []
  },
  {
   "cell_type": "code",
   "execution_count": null,
   "metadata": {},
   "outputs": [],
   "source": []
  },
  {
   "cell_type": "code",
   "execution_count": null,
   "metadata": {},
   "outputs": [],
   "source": []
  },
  {
   "cell_type": "code",
   "execution_count": null,
   "metadata": {},
   "outputs": [],
   "source": []
  }
 ],
 "metadata": {
  "kernelspec": {
   "display_name": "Python 3",
   "language": "python",
   "name": "python3"
  },
  "language_info": {
   "codemirror_mode": {
    "name": "ipython",
    "version": 3
   },
   "file_extension": ".py",
   "mimetype": "text/x-python",
   "name": "python",
   "nbconvert_exporter": "python",
   "pygments_lexer": "ipython3",
   "version": "3.8.5"
  }
 },
 "nbformat": 4,
 "nbformat_minor": 4
}
